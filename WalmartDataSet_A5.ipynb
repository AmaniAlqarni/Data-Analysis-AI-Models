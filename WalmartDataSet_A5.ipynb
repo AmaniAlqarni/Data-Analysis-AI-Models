{
  "nbformat": 4,
  "nbformat_minor": 0,
  "metadata": {
    "colab": {
      "provenance": [],
      "authorship_tag": "ABX9TyMJysYzvOZBgYRgBPYGQbc8",
      "include_colab_link": true
    },
    "kernelspec": {
      "name": "python3",
      "display_name": "Python 3"
    },
    "language_info": {
      "name": "python"
    }
  },
  "cells": [
    {
      "cell_type": "markdown",
      "metadata": {
        "id": "view-in-github",
        "colab_type": "text"
      },
      "source": [
        "<a href=\"https://colab.research.google.com/github/AmaniAlqarni/AI-Models/blob/main/WalmartDataSet_A5.ipynb\" target=\"_parent\"><img src=\"https://colab.research.google.com/assets/colab-badge.svg\" alt=\"Open In Colab\"/></a>"
      ]
    },
    {
      "cell_type": "code",
      "execution_count": null,
      "metadata": {
        "colab": {
          "base_uri": "https://localhost:8080/"
        },
        "id": "MoDo4LsqXvzd",
        "outputId": "59f0d1de-6738-446d-8496-9a6b44657ace"
      },
      "outputs": [
        {
          "output_type": "stream",
          "name": "stdout",
          "text": [
            "Drive already mounted at /content/gdrive; to attempt to forcibly remount, call drive.mount(\"/content/gdrive\", force_remount=True).\n"
          ]
        }
      ],
      "source": [
        "import pandas as pd\n",
        "import numpy as np\n",
        "from google.colab import drive\n",
        "drive.mount('/content/gdrive')"
      ]
    },
    {
      "cell_type": "code",
      "source": [
        "from sklearn.preprocessing import OneHotEncoder, OrdinalEncoder\n",
        "from sklearn.compose import make_column_transformer\n",
        "from sklearn.pipeline import make_pipeline\n",
        "from sklearn.model_selection import train_test_split\n",
        "from sklearn.linear_model import LinearRegression\n",
        "from sklearn.ensemble import GradientBoostingRegressor\n",
        "from sklearn.metrics import mean_absolute_error, mean_squared_error"
      ],
      "metadata": {
        "id": "Y__ji9LGdbjA"
      },
      "execution_count": null,
      "outputs": []
    },
    {
      "cell_type": "code",
      "source": [
        "file = ('/content/gdrive/MyDrive/ColabNotebooks/walmart.csv')\n",
        "walmart = pd.read_csv(file)\n",
        "walmart"
      ],
      "metadata": {
        "colab": {
          "base_uri": "https://localhost:8080/",
          "height": 424
        },
        "id": "iymngBH_YUcl",
        "outputId": "b881d711-a668-421c-c1e0-55732f8ed42e"
      },
      "execution_count": null,
      "outputs": [
        {
          "output_type": "execute_result",
          "data": {
            "text/plain": [
              "           Date  Weekly_Sales IsHoliday  Temperature  Fuel_Price  \\\n",
              "0    2010-02-05      24924.50        No        42.31       2.572   \n",
              "1    2010-02-12      46039.49       Yes        38.51       2.548   \n",
              "2    2010-02-19      41595.55        No        39.93       2.514   \n",
              "3    2010-02-26      19403.54        No        46.63       2.561   \n",
              "4    2010-03-05      21827.90        No        46.50       2.625   \n",
              "..          ...           ...       ...          ...         ...   \n",
              "138  2012-09-28      18947.81        No        76.08       3.666   \n",
              "139  2012-10-05      21904.47        No        68.55       3.617   \n",
              "140  2012-10-12      22764.01        No        62.99       3.601   \n",
              "141  2012-10-19      24185.27        No        67.97       3.594   \n",
              "142  2012-10-26      27390.81        No        69.16       3.506   \n",
              "\n",
              "     Unemployment     MarkDown  \n",
              "0           8.106  No Markdown  \n",
              "1           8.106  No Markdown  \n",
              "2           8.106  No Markdown  \n",
              "3           8.106  No Markdown  \n",
              "4           8.106  No Markdown  \n",
              "..            ...          ...  \n",
              "138         6.908    MarkDown5  \n",
              "139         6.573    MarkDown2  \n",
              "140         6.573    MarkDown2  \n",
              "141         6.573    MarkDown2  \n",
              "142         6.573    MarkDown1  \n",
              "\n",
              "[143 rows x 7 columns]"
            ],
            "text/html": [
              "\n",
              "  <div id=\"df-f442a9b2-e422-4145-9279-3b6160ae1970\">\n",
              "    <div class=\"colab-df-container\">\n",
              "      <div>\n",
              "<style scoped>\n",
              "    .dataframe tbody tr th:only-of-type {\n",
              "        vertical-align: middle;\n",
              "    }\n",
              "\n",
              "    .dataframe tbody tr th {\n",
              "        vertical-align: top;\n",
              "    }\n",
              "\n",
              "    .dataframe thead th {\n",
              "        text-align: right;\n",
              "    }\n",
              "</style>\n",
              "<table border=\"1\" class=\"dataframe\">\n",
              "  <thead>\n",
              "    <tr style=\"text-align: right;\">\n",
              "      <th></th>\n",
              "      <th>Date</th>\n",
              "      <th>Weekly_Sales</th>\n",
              "      <th>IsHoliday</th>\n",
              "      <th>Temperature</th>\n",
              "      <th>Fuel_Price</th>\n",
              "      <th>Unemployment</th>\n",
              "      <th>MarkDown</th>\n",
              "    </tr>\n",
              "  </thead>\n",
              "  <tbody>\n",
              "    <tr>\n",
              "      <th>0</th>\n",
              "      <td>2010-02-05</td>\n",
              "      <td>24924.50</td>\n",
              "      <td>No</td>\n",
              "      <td>42.31</td>\n",
              "      <td>2.572</td>\n",
              "      <td>8.106</td>\n",
              "      <td>No Markdown</td>\n",
              "    </tr>\n",
              "    <tr>\n",
              "      <th>1</th>\n",
              "      <td>2010-02-12</td>\n",
              "      <td>46039.49</td>\n",
              "      <td>Yes</td>\n",
              "      <td>38.51</td>\n",
              "      <td>2.548</td>\n",
              "      <td>8.106</td>\n",
              "      <td>No Markdown</td>\n",
              "    </tr>\n",
              "    <tr>\n",
              "      <th>2</th>\n",
              "      <td>2010-02-19</td>\n",
              "      <td>41595.55</td>\n",
              "      <td>No</td>\n",
              "      <td>39.93</td>\n",
              "      <td>2.514</td>\n",
              "      <td>8.106</td>\n",
              "      <td>No Markdown</td>\n",
              "    </tr>\n",
              "    <tr>\n",
              "      <th>3</th>\n",
              "      <td>2010-02-26</td>\n",
              "      <td>19403.54</td>\n",
              "      <td>No</td>\n",
              "      <td>46.63</td>\n",
              "      <td>2.561</td>\n",
              "      <td>8.106</td>\n",
              "      <td>No Markdown</td>\n",
              "    </tr>\n",
              "    <tr>\n",
              "      <th>4</th>\n",
              "      <td>2010-03-05</td>\n",
              "      <td>21827.90</td>\n",
              "      <td>No</td>\n",
              "      <td>46.50</td>\n",
              "      <td>2.625</td>\n",
              "      <td>8.106</td>\n",
              "      <td>No Markdown</td>\n",
              "    </tr>\n",
              "    <tr>\n",
              "      <th>...</th>\n",
              "      <td>...</td>\n",
              "      <td>...</td>\n",
              "      <td>...</td>\n",
              "      <td>...</td>\n",
              "      <td>...</td>\n",
              "      <td>...</td>\n",
              "      <td>...</td>\n",
              "    </tr>\n",
              "    <tr>\n",
              "      <th>138</th>\n",
              "      <td>2012-09-28</td>\n",
              "      <td>18947.81</td>\n",
              "      <td>No</td>\n",
              "      <td>76.08</td>\n",
              "      <td>3.666</td>\n",
              "      <td>6.908</td>\n",
              "      <td>MarkDown5</td>\n",
              "    </tr>\n",
              "    <tr>\n",
              "      <th>139</th>\n",
              "      <td>2012-10-05</td>\n",
              "      <td>21904.47</td>\n",
              "      <td>No</td>\n",
              "      <td>68.55</td>\n",
              "      <td>3.617</td>\n",
              "      <td>6.573</td>\n",
              "      <td>MarkDown2</td>\n",
              "    </tr>\n",
              "    <tr>\n",
              "      <th>140</th>\n",
              "      <td>2012-10-12</td>\n",
              "      <td>22764.01</td>\n",
              "      <td>No</td>\n",
              "      <td>62.99</td>\n",
              "      <td>3.601</td>\n",
              "      <td>6.573</td>\n",
              "      <td>MarkDown2</td>\n",
              "    </tr>\n",
              "    <tr>\n",
              "      <th>141</th>\n",
              "      <td>2012-10-19</td>\n",
              "      <td>24185.27</td>\n",
              "      <td>No</td>\n",
              "      <td>67.97</td>\n",
              "      <td>3.594</td>\n",
              "      <td>6.573</td>\n",
              "      <td>MarkDown2</td>\n",
              "    </tr>\n",
              "    <tr>\n",
              "      <th>142</th>\n",
              "      <td>2012-10-26</td>\n",
              "      <td>27390.81</td>\n",
              "      <td>No</td>\n",
              "      <td>69.16</td>\n",
              "      <td>3.506</td>\n",
              "      <td>6.573</td>\n",
              "      <td>MarkDown1</td>\n",
              "    </tr>\n",
              "  </tbody>\n",
              "</table>\n",
              "<p>143 rows × 7 columns</p>\n",
              "</div>\n",
              "      <button class=\"colab-df-convert\" onclick=\"convertToInteractive('df-f442a9b2-e422-4145-9279-3b6160ae1970')\"\n",
              "              title=\"Convert this dataframe to an interactive table.\"\n",
              "              style=\"display:none;\">\n",
              "        \n",
              "  <svg xmlns=\"http://www.w3.org/2000/svg\" height=\"24px\"viewBox=\"0 0 24 24\"\n",
              "       width=\"24px\">\n",
              "    <path d=\"M0 0h24v24H0V0z\" fill=\"none\"/>\n",
              "    <path d=\"M18.56 5.44l.94 2.06.94-2.06 2.06-.94-2.06-.94-.94-2.06-.94 2.06-2.06.94zm-11 1L8.5 8.5l.94-2.06 2.06-.94-2.06-.94L8.5 2.5l-.94 2.06-2.06.94zm10 10l.94 2.06.94-2.06 2.06-.94-2.06-.94-.94-2.06-.94 2.06-2.06.94z\"/><path d=\"M17.41 7.96l-1.37-1.37c-.4-.4-.92-.59-1.43-.59-.52 0-1.04.2-1.43.59L10.3 9.45l-7.72 7.72c-.78.78-.78 2.05 0 2.83L4 21.41c.39.39.9.59 1.41.59.51 0 1.02-.2 1.41-.59l7.78-7.78 2.81-2.81c.8-.78.8-2.07 0-2.86zM5.41 20L4 18.59l7.72-7.72 1.47 1.35L5.41 20z\"/>\n",
              "  </svg>\n",
              "      </button>\n",
              "      \n",
              "  <style>\n",
              "    .colab-df-container {\n",
              "      display:flex;\n",
              "      flex-wrap:wrap;\n",
              "      gap: 12px;\n",
              "    }\n",
              "\n",
              "    .colab-df-convert {\n",
              "      background-color: #E8F0FE;\n",
              "      border: none;\n",
              "      border-radius: 50%;\n",
              "      cursor: pointer;\n",
              "      display: none;\n",
              "      fill: #1967D2;\n",
              "      height: 32px;\n",
              "      padding: 0 0 0 0;\n",
              "      width: 32px;\n",
              "    }\n",
              "\n",
              "    .colab-df-convert:hover {\n",
              "      background-color: #E2EBFA;\n",
              "      box-shadow: 0px 1px 2px rgba(60, 64, 67, 0.3), 0px 1px 3px 1px rgba(60, 64, 67, 0.15);\n",
              "      fill: #174EA6;\n",
              "    }\n",
              "\n",
              "    [theme=dark] .colab-df-convert {\n",
              "      background-color: #3B4455;\n",
              "      fill: #D2E3FC;\n",
              "    }\n",
              "\n",
              "    [theme=dark] .colab-df-convert:hover {\n",
              "      background-color: #434B5C;\n",
              "      box-shadow: 0px 1px 3px 1px rgba(0, 0, 0, 0.15);\n",
              "      filter: drop-shadow(0px 1px 2px rgba(0, 0, 0, 0.3));\n",
              "      fill: #FFFFFF;\n",
              "    }\n",
              "  </style>\n",
              "\n",
              "      <script>\n",
              "        const buttonEl =\n",
              "          document.querySelector('#df-f442a9b2-e422-4145-9279-3b6160ae1970 button.colab-df-convert');\n",
              "        buttonEl.style.display =\n",
              "          google.colab.kernel.accessAllowed ? 'block' : 'none';\n",
              "\n",
              "        async function convertToInteractive(key) {\n",
              "          const element = document.querySelector('#df-f442a9b2-e422-4145-9279-3b6160ae1970');\n",
              "          const dataTable =\n",
              "            await google.colab.kernel.invokeFunction('convertToInteractive',\n",
              "                                                     [key], {});\n",
              "          if (!dataTable) return;\n",
              "\n",
              "          const docLinkHtml = 'Like what you see? Visit the ' +\n",
              "            '<a target=\"_blank\" href=https://colab.research.google.com/notebooks/data_table.ipynb>data table notebook</a>'\n",
              "            + ' to learn more about interactive tables.';\n",
              "          element.innerHTML = '';\n",
              "          dataTable['output_type'] = 'display_data';\n",
              "          await google.colab.output.renderOutput(dataTable, element);\n",
              "          const docLink = document.createElement('div');\n",
              "          docLink.innerHTML = docLinkHtml;\n",
              "          element.appendChild(docLink);\n",
              "        }\n",
              "      </script>\n",
              "    </div>\n",
              "  </div>\n",
              "  "
            ]
          },
          "metadata": {},
          "execution_count": 39
        }
      ]
    },
    {
      "cell_type": "code",
      "source": [
        "# Task 1:\n",
        "# Identify whether it is a regression or a classification problem.\n",
        "# Since the output is a continuous number, it is a Regression Problem.\n",
        "\n",
        "# Drop the date column and build X (input, features other than Weekly_Sales)\n",
        "X = walmart.drop('Date', axis = 1)\n",
        "\n",
        "# and Y (output, Weekly_Sales). (2 points)\n",
        "Y = walmart['Weekly_Sales']\n",
        "\n",
        "#X\n",
        "#Y"
      ],
      "metadata": {
        "id": "I8zSwoIvXwlb"
      },
      "execution_count": null,
      "outputs": []
    },
    {
      "cell_type": "code",
      "source": [
        "# Task 2:\n",
        "# identify the qualitative features (nominal/ordinal) and\n",
        "# Qualitative features are ['Date'= Ordinal, 'IsHoliday' = Nominal, 'MarkDown' = Nominal]\n",
        "\n",
        "\n",
        "# perform the appropriate encoding. (4 points)\n",
        "# Since I dropped the 'Data' feature, there is no need for ordinal hot encoding.\n",
        "# I'm using one hot encoding for the two Nominal features 'IsHoliday' and 'MarkDown'\n",
        "# Instantiate OneHotEncoder\n",
        "ohe = OneHotEncoder(handle_unknown='ignore', sparse = False)"
      ],
      "metadata": {
        "id": "TnhdZsVAYDDb"
      },
      "execution_count": null,
      "outputs": []
    },
    {
      "cell_type": "code",
      "source": [
        "# Make column transformer for OneHotEncoder\n",
        "column_transform = make_column_transformer(\n",
        "    (ohe, ['MarkDown', 'IsHoliday']))"
      ],
      "metadata": {
        "id": "AFXse-mvytKH"
      },
      "execution_count": null,
      "outputs": []
    },
    {
      "cell_type": "code",
      "source": [
        "# Task 3:\n",
        "# Split the data into training and testing (1 point)\n",
        "X_train, X_test, Y_train, Y_test = train_test_split(X, Y, test_size = 0.3, random_state = 42)\n",
        "\n",
        "print(\"X_train shape: \", X_train.shape)\n",
        "print(\"Y_train shape: \", Y_train.shape)\n",
        "print(\"X_test shape: \", X_test.shape)\n",
        "print(\"Y_test shape: \", Y_test.shape)"
      ],
      "metadata": {
        "id": "xSR3HFuhYDON",
        "colab": {
          "base_uri": "https://localhost:8080/"
        },
        "outputId": "e25412c4-5817-4953-9fa7-dd438bc86713"
      },
      "execution_count": null,
      "outputs": [
        {
          "output_type": "stream",
          "name": "stdout",
          "text": [
            "X_train shape:  (100, 6)\n",
            "Y_train shape:  (100,)\n",
            "X_test shape:  (43, 6)\n",
            "Y_test shape:  (43,)\n"
          ]
        }
      ]
    },
    {
      "cell_type": "code",
      "source": [
        "# Task 3:\n",
        "# Instantiate pipeline with linear regression\n",
        "lm = LinearRegression()\n",
        "lm_pipeline = make_pipeline(column_transform, lm)"
      ],
      "metadata": {
        "id": "eCpV-QsBWVVh"
      },
      "execution_count": null,
      "outputs": []
    },
    {
      "cell_type": "code",
      "source": [
        "# Task 3:\n",
        "\n",
        "# Train the linear regression model on training set (1 point)\n",
        "lm_pipeline.fit(X_train, Y_train)\n",
        "\n",
        "\n",
        "# Evaluate the linear regression model on test set (1 point)\n",
        "lm_predictions = lm_pipeline.predict(X_test)\n",
        "print(\"First 5 LM predictions: \", list(lm_predictions[:4]))"
      ],
      "metadata": {
        "colab": {
          "base_uri": "https://localhost:8080/"
        },
        "id": "20DfnED-Xj2k",
        "outputId": "50f14ed5-0bf1-412f-a756-15bc762db98e"
      },
      "execution_count": null,
      "outputs": [
        {
          "output_type": "stream",
          "name": "stdout",
          "text": [
            "First 5 LM predictions:  [23785.85364006827, 22572.715249730074, 22572.715249730074, 21049.394602417196]\n"
          ]
        }
      ]
    },
    {
      "cell_type": "code",
      "source": [
        "# Task 3:\n",
        "# Display the mean absolute error and mean squared error (1 point)\n",
        "\n",
        "\n",
        "# Calculate mean square error and root mean squared error\n",
        "lm_mae = mean_absolute_error(lm_predictions, Y_test)\n",
        "lm_rmse =  np.sqrt(mean_squared_error(lm_predictions, Y_test))\n",
        "print(\"LM MAE: {:.2f}\".format(round(lm_m    ae, 2)))\n",
        "print(\"LM RMSE: {:.2f}\".format(round(lm_rmse, 2)))"
      ],
      "metadata": {
        "colab": {
          "base_uri": "https://localhost:8080/"
        },
        "id": "1aoqupI6YvcD",
        "outputId": "ee70dea6-cac3-4f50-b5f3-c76c2959cb6f"
      },
      "execution_count": null,
      "outputs": [
        {
          "output_type": "stream",
          "name": "stdout",
          "text": [
            "LM MAE: 8019.22\n",
            "LM RMSE: 10923.65\n"
          ]
        }
      ]
    }
  ]
}